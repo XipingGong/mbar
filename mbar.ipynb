{
 "cells": [
  {
   "cell_type": "markdown",
   "id": "4cb6f208-cd56-42bc-81a5-ac8e24cf0f73",
   "metadata": {
    "jp-MarkdownHeadingCollapsed": true,
    "tags": []
   },
   "source": [
    "# Background\n",
    "\n",
    "+ Multiple importance sampling (MIS)\n",
    "\n",
    "The key idea of MIS reweighting is to construct a mixture distribution to describe all biased samples\n",
    "chosen, and then we can unbiased these biased samples using an importance sampling technique [1].\n",
    "\n",
    "$P_{mix}(x) = \\frac{1}{N_{tot}}\\sum_{k=1}^K{n_k * P_k(x)}$\n",
    "\n",
    "$= \\frac{1}{N}\\sum_{k=1}^K{n_k * e^{f_k - u_k(x)}}$, (1)\n",
    "\n",
    "where $u_k(x) = \\beta_k E_k(x)$ is the reduced potential and $P_{mix}(x)$ is a mixture distribution to describe all chosen biased samples. $n_k$ is the number of $k^{th}$ biased samples and $k$ ranges from $1$ to $K$ bias simulations, $N = \\sum_{k}{n_k}$.\n",
    "\n",
    "To understand the insight behind, we probably look at them from a probability expansion,\n",
    "\n",
    "$P(A) = \\sum_i P(B_i) P(A|B_i)$,\n",
    "\n",
    "where $P(A|B_i)$ is essentially the number of samples for each bias simulation.\n",
    "\n",
    "Any observation can be calculated using the following equation,\n",
    "\n",
    "$<A> = \\int{A(x)P(x)}dx = \\int{A(x)\\frac{P(x)}{P_{mix}(x)} P_{mix}(x)}dx$\n",
    "\n",
    "$= \\sum_{n=1}^{N} A(x_n) w(x_n), x_n \\in P_{mix}(x)$, (2)\n",
    "\n",
    "where $ w(x_n) = \\frac{1}{N} \\sum_{n=1}^{N} \\frac{P(x_n)}{P_{mix}(x_n)} $ and it subjects to $\\sum_{n} w(x_n) = 1$.\n",
    "\n",
    "+ Free energies ($f_k$) calculated from the Multistate Bennett Acceptance Ratio (MBAR) equation\n",
    "\n",
    "$\\int{P_k(x)dx} = \\frac{1}{N}\\sum_n\\frac{P_k(x_n)}{P_{mix}(x_n)} = \\sum_n\\frac{e^{f_k - u_k(x_n)}}{\\sum_{k=1}^K{n_k * e^{f_k - u_k(x_n)}}} = 1$, (3)\n",
    "\n",
    "then, the free energies ($f_k$) can be iteratively solved by a self-consistent iteration, given a set of initial guess [2]. A good guess of each free energy could be the average of its reduced potential.\n",
    "It is noted that the different set of chosen samples (such as choosing the different $n_k$ values)\n",
    "could have an effect on estimating the free energies, which probably gives us different results.\n",
    "\n",
    "\n",
    "**Reference**\n",
    "\n",
    "[1]. Shirts, Reweighting from the mixture distribution as a better way to describe the Multistate Bennett Acceptance Ratio, arXiv:1704.00891\n",
    "\n",
    "[2]. Shirts and Chodera, Statistically optimal analysis of samples from multiple equilibrium states, J. Chem. Phys. 129, 124105 (2008)"
   ]
  },
  {
   "cell_type": "markdown",
   "id": "bef795ac-c108-46c5-a4c5-8e241d9a3cb4",
   "metadata": {},
   "source": [
    "# General implementation\n",
    "\n",
    "+ Calculating the reduced potentials for all biased samples, $u_k(x_n)$\n",
    "\n",
    "    Using the equation, $u_k(x_n) = \\beta E_k(x_n)$, to obtain the array $u_k(x_n)$, and \n",
    "$k$ loops over all biased simulations and $x_n$ loops over all biased samples.\n",
    "\n",
    "+ Obtaining a set of biased samples and and counting the number of samples of each bias simulation ($n_k$)\n",
    "\n",
    "+ Obtaining the free energies ($f_k$) by using MBAR iterations (Eq. 3)\n",
    "\n",
    "+ Evaluating the observations using Eq. 2\n"
   ]
  },
  {
   "cell_type": "markdown",
   "id": "599e2076-5d3b-433c-bb7c-f0dadd43eb17",
   "metadata": {},
   "source": [
    "# Example. CA-CA model\n",
    "\n",
    "The simplest example is the di-atom model (CA - CA).\n",
    "Initially, we need to run the umbrella sampling that has six bias simulations simulations with different bias harmonic potentials."
   ]
  },
  {
   "cell_type": "markdown",
   "id": "05a53ae7-5801-4b0a-a8bf-421fce9cc6ac",
   "metadata": {},
   "source": [
    "## Import python packages"
   ]
  },
  {
   "cell_type": "code",
   "execution_count": 1,
   "id": "6615abeb-623b-4aac-92ae-7c0f7fa2d59c",
   "metadata": {},
   "outputs": [],
   "source": [
    "import glob # used for processing multiple files\n",
    "import numpy as np\n",
    "from matplotlib import pyplot as plt\n",
    "from pymbar import MBAR # please see 4.1 for installation\n",
    "from scipy import special"
   ]
  },
  {
   "cell_type": "markdown",
   "id": "41b33ce8-82c0-4c3b-8099-9d1dbfe86bde",
   "metadata": {},
   "source": [
    "## Going to the working folder and run the umbrella simulations"
   ]
  },
  {
   "cell_type": "code",
   "execution_count": 2,
   "id": "75e3b459-5c6a-441b-93cc-6ec164ee8a3f",
   "metadata": {},
   "outputs": [
    {
     "name": "stdout",
     "output_type": "stream",
     "text": [
      "/home/ping/tutorial/mbar\n",
      "total 3112\n",
      "-rw-r--r-- 1 ping jianhanc  53853 Sep  2 16:39 mbar.ipynb\n",
      "-rw-r--r-- 1 ping jianhanc    224 Oct  1  2021 README\n",
      "-rw-r--r-- 1 ping jianhanc 344913 Oct  1  2021 mbar.html\n",
      "-rw-r--r-- 1 ping jianhanc 460048 Sep 29  2021 d9k2t300.dat\n",
      "-rw-r--r-- 1 ping jianhanc 460048 Sep 29  2021 d8k2t300.dat\n",
      "-rw-r--r-- 1 ping jianhanc 460048 Sep 29  2021 d7k2t300.dat\n",
      "-rw-r--r-- 1 ping jianhanc 460048 Sep 29  2021 d6k2t300.dat\n",
      "-rw-r--r-- 1 ping jianhanc 460048 Sep 29  2021 d5k2t300.dat\n",
      "-rw-r--r-- 1 ping jianhanc 460048 Sep 29  2021 d4k2t300.dat\n"
     ]
    }
   ],
   "source": [
    "wdir = '/home/ping/tutorial/mbar/'\n",
    "%cd $wdir\n",
    "%ls -lt\n"
   ]
  },
  {
   "cell_type": "markdown",
   "id": "40917131-cd6a-457b-bf3a-2890c5c57045",
   "metadata": {},
   "source": [
    "**Notes**\n",
    "\n",
    "There are six data files that include the \"time, distance, energy\" of each simulation. For example, \"d4k2t300.dat' means that the distance of CA-CA system was constrained in around 4 Angstrams, k force constant is 2, and temperature is 300 K.\n",
    "\n",
    "In fact, we only need the trajectories (or distances) of all simulations, and then count the $n_k$ and calculate the unitless reduced potential $u_k(x_n)$."
   ]
  },
  {
   "cell_type": "markdown",
   "id": "7c712296-d693-4e0c-bf84-da2aa13f798f",
   "metadata": {},
   "source": [
    "## Obtain the trajectories of all simulations"
   ]
  },
  {
   "cell_type": "code",
   "execution_count": 3,
   "id": "77feb3e2-674d-4e1b-97b8-31bd68ee3e37",
   "metadata": {},
   "outputs": [
    {
     "name": "stdout",
     "output_type": "stream",
     "text": [
      ">> Extract trajectories (xn) for each biased simulations \n",
      "file 0 >  /home/ping/tutorial/mbar/d4k2t300.dat\n",
      "file 1 >  /home/ping/tutorial/mbar/d5k2t300.dat\n",
      "file 2 >  /home/ping/tutorial/mbar/d6k2t300.dat\n",
      "file 3 >  /home/ping/tutorial/mbar/d7k2t300.dat\n",
      "file 4 >  /home/ping/tutorial/mbar/d8k2t300.dat\n",
      "file 5 >  /home/ping/tutorial/mbar/d9k2t300.dat\n",
      "traj.shape =  (60000,)\n"
     ]
    },
    {
     "data": {
      "text/plain": [
       "Text(0, 0.5, 'CA-CA distances ($\\\\AA$)')"
      ]
     },
     "execution_count": 3,
     "metadata": {},
     "output_type": "execute_result"
    },
    {
     "data": {
      "image/png": "[encoded data removed]",
      "text/plain": [
       "<Figure size 432x288 with 1 Axes>"
      ]
     },
     "metadata": {
      "needs_background": "light"
     },
     "output_type": "display_data"
    }
   ],
   "source": [
    "info = '>> Extract trajectories (xn) for each biased simulations '\n",
    "print(info)\n",
    "# six windows\n",
    "# d4k2t300.dat; R = 4\n",
    "# d5k2t300.dat; R = 5\n",
    "# d6k2t300.dat; R = 6\n",
    "# d7k2t300.dat; R = 7\n",
    "# d8k2t300.dat; R = 8\n",
    "# d9k2t300.dat; R = 9\n",
    "datafiles = glob.glob(wdir+'*.dat')\n",
    "datafiles = sorted(datafiles)\n",
    "for k in range(0,len(datafiles)):\n",
    "    print('file '+str(k)+' > ', datafiles[k])\n",
    "traj = [np.loadtxt(f) for f in datafiles]\n",
    "traj = np.concatenate(traj)[:,1] # extracting the distance\n",
    "print('traj.shape = ', traj.shape)\n",
    "plt.plot(traj)\n",
    "plt.xlabel('Trajectories')\n",
    "plt.ylabel(r'CA-CA distances ($\\AA$)')"
   ]
  },
  {
   "cell_type": "markdown",
   "id": "aaaee91a-f4a0-41ac-b6fe-320c401a96d1",
   "metadata": {},
   "source": [
    "## Calculating relative free energies (fk) using MBAR"
   ]
  },
  {
   "cell_type": "code",
   "execution_count": 4,
   "id": "250ac808-85c5-4211-94bc-a7043ab19bf3",
   "metadata": {},
   "outputs": [
    {
     "name": "stdout",
     "output_type": "stream",
     "text": [
      ">> Calculate biased reduced potentials (ukln = uk(xln)), xln -> xn\n",
      "ukn.shape =  (6, 60000)\n",
      "\n",
      "\n",
      ">> Calculate nk of each simulation\n",
      "nk =  [10000, 10000, 10000, 10000, 10000, 10000]\n",
      "np.sum(nk) =  60000\n",
      "\n",
      "\n",
      ">> Calcualte relative free energies for each biased simulation (fk)\n",
      "fk =  [0.         1.11936788 4.19752867 5.54399763 5.73807439 5.86545308]\n"
     ]
    }
   ],
   "source": [
    "# calculating unitless reduced potential, uk(xn)\n",
    "# Here, we wrote a python script to obtain the energies of systems, due to this is a simple system.\n",
    "# We often calcualte them by a three-party program you used to do the umbrella sampling simulation.\n",
    "# -------------\n",
    "\n",
    "# parameters\n",
    "kcons = 2\n",
    "T = 300\n",
    "beta = 1/0.593*298/T\n",
    "R_arr = np.arange(4,10)\n",
    "lenR = len(R_arr)\n",
    "ntraj = len(traj)\n",
    "\n",
    "# ULJ(r) = epsilon * ((Rmin/r)**12 - 2*(Rmin/r)**6)\n",
    "def ULJ(r):\n",
    "    eps1 = -5.0 # CA-1 carbon\n",
    "    halfRmin1 = 2.000000\n",
    "    eps2 = -5.0 # CA-2 carbon\n",
    "    halfRmin2 = 2.000000\n",
    "    epsilon = np.sqrt(eps1 * eps2)\n",
    "    Rmin = halfRmin1 + halfRmin2\n",
    "    epsilon = np.sqrt(eps1 * eps2)\n",
    "    Rmin = halfRmin1 + halfRmin2\n",
    "    return epsilon * ((Rmin/r)**12 - 2*(Rmin/r)**6)\n",
    "\n",
    "# calculating unitless reduced potential\n",
    "info = '>> Calculate biased reduced potentials (ukln = uk(xln)), xln -> xn'\n",
    "print(info)\n",
    "ukn = np.zeros((lenR, ntraj)) # biased reduced potentials without the unbiased term\n",
    "for k in range(0,lenR):\n",
    "    ukn[k,:] = beta * (ULJ(traj) + kcons/2*(traj-R_arr[k])**2)\n",
    "print('ukn.shape = ', ukn.shape)\n",
    "print('\\n')\n",
    "\n",
    "# Counting the number of samples of each simulation (nk)\n",
    "# ------------\n",
    "# each simulation has 10000 trajecties, \n",
    "# but it is unnecessary to choose all samples, and \n",
    "# choosing the optimal nk is an open question.\n",
    "info = '>> Calculate nk of each simulation'\n",
    "print(info)\n",
    "nk = [10000, 10000, 10000, 10000, 10000, 10000]\n",
    "print('nk = ', nk)\n",
    "print('np.sum(nk) = ', np.sum(nk))\n",
    "print('\\n')\n",
    "\n",
    "# Obtaining the relative free energies (𝑓𝑘) by using MBAR iterations\n",
    "# -----------\n",
    "info = '>> Calcualte relative free energies for each biased simulation (fk)'\n",
    "print(info)\n",
    "mbar = MBAR(ukn, nk)\n",
    "fk = mbar.f_k\n",
    "print('fk = ', fk)\n"
   ]
  },
  {
   "cell_type": "markdown",
   "id": "6e22a6da-4725-46f2-9339-c2d68e9c731a",
   "metadata": {},
   "source": [
    "## Constructing a mixture probability distribution\n",
    "\n",
    "$P_{mix}(x) = \\sum_{k=1}^K{c_k * e^{f_k - \\beta_kE_k(x)}}$,\n",
    "\n",
    "$c_k = \\frac{n_k}{\\sum_k{n_k}}$,\n",
    "\n",
    "where $f_k$ is the relative free energies, this mixture probability can be used to describe the chosen samples.\n",
    "In this way, given all samples, we should know how to calcualte this mixture probability, and \n",
    "all properties can be calculated from this mixture probability."
   ]
  },
  {
   "cell_type": "markdown",
   "id": "e4105476-5b54-4e1c-9d72-3c97e1c6c2f4",
   "metadata": {},
   "source": [
    "## Property analysis: distance of CA-CA\n",
    "\n",
    "+ Theory\n",
    "\n",
    "$Prob(R) = \\frac{\\int{\\delta(r-R)P(x)dx}}{\\int{P(x)dx}} = C\\int{\\delta(r-R)P(x)dx}$\n",
    "\n",
    "$= C * 4\\pi\\int{\\delta(r-R)P(r)r^2dr} = 4\\pi R^2P(R)$,\n",
    "\n",
    "+ MBAR analysis\n",
    "\n",
    "$Prob(R) = \\frac{\\int{\\delta(r-R)P(x)dx}}{\\int{P(x)dx}} = C\\int{\\delta(r-R)P(x)dx}$\n",
    "\n",
    "$= C * \\frac{1}{N}\\sum_{n=1}^{N}\\delta(r_n-R)\\frac{P(x_n)}{P_{mix}(x_n)}$,\n",
    "\n",
    "+ Free energy (kT)\n",
    "\n",
    "$PMF(R) = -log(Prob(R))$."
   ]
  },
  {
   "cell_type": "code",
   "execution_count": 5,
   "id": "933f2d0a-dec3-493f-a5d3-e174d6ac5450",
   "metadata": {},
   "outputs": [],
   "source": [
    "# MBAR\n",
    "bins = np.arange(3.6, 10, 0.1)\n",
    "logweights = -beta*ULJ(traj) - special.logsumexp(fk-ukn.T, b=nk, axis=1)\n",
    "hist,bins = np.histogram(traj, bins=bins, weights=np.exp(logweights), density=True)\n",
    "dist = (bins[0:-1] + bins[1:])/2\n",
    "pmf_mbar = -np.log(hist)\n",
    "\n",
    "# theory\n",
    "pr = dist*dist*np.exp(-beta*ULJ(dist)) \n",
    "pr = 10 * pr/pr.sum() # probability, normalized\n",
    "pmf_theory = -np.log(pr) # reduced free energy G(r) = -log(P(r))"
   ]
  },
  {
   "cell_type": "markdown",
   "id": "1c912167-c4fd-49ac-9b41-8c9d713973ff",
   "metadata": {},
   "source": [
    "## Plotting: MBAR vs. theory"
   ]
  },
  {
   "cell_type": "code",
   "execution_count": 6,
   "id": "43547df2-133b-40a6-b8a7-d7eb7a905fd2",
   "metadata": {},
   "outputs": [
    {
     "data": {
      "text/plain": [
       "<matplotlib.legend.Legend at 0x7f497c2f4df0>"
      ]
     },
     "execution_count": 6,
     "metadata": {},
     "output_type": "execute_result"
    },
    {
     "data": {
      "image/png": "[encoded data removed]",
      "text/plain": [
       "<Figure size 432x288 with 1 Axes>"
      ]
     },
     "metadata": {
      "needs_background": "light"
     },
     "output_type": "display_data"
    }
   ],
   "source": [
    "# plot the PMF (Umbrella sampling + MBAR ~ theory)\n",
    "# ------------\n",
    "plt.plot(dist, pmf_theory,'k-', dist, pmf_mbar,'ro')\n",
    "plt.xlabel('dist: CA - CA ($\\AA$)')\n",
    "plt.ylabel('free energy (kT)')\n",
    "plt.legend(('theory', 'UM+MBAR'))\n"
   ]
  },
  {
   "cell_type": "markdown",
   "id": "e217b2e0-8c7c-4778-bc0f-a01799be56c2",
   "metadata": {},
   "source": [
    "# Appendix "
   ]
  },
  {
   "cell_type": "markdown",
   "id": "56835e07-e37f-4419-8a5e-24f0e7c7cd69",
   "metadata": {},
   "source": [
    "## How to calculate relative free energies: pymbar and FastMBAR\n",
    "\n",
    "There are two packages to cacluate the relative free energies ($f_k$), including the pymbar and FastMBAR, where the FastMBAR has been optimized in both CPU and GPU calculations. Please look at the following references for details.\n",
    "\n",
    "Another option is to use the following function to calcualte them iteratively,\n",
    "\n",
    "$f_k^{(iter+1)} = -log(\\sum_n{\\frac{e^{-u_k(x_n)}}{\\sum_k{n_k e^{f_k^{iter} - u_k(x_n)}}}})$.\n"
   ]
  },
  {
   "cell_type": "code",
   "execution_count": 7,
   "id": "7139f48f-ea27-4884-9c4a-ee75a6842966",
   "metadata": {},
   "outputs": [],
   "source": [
    "import numpy as np\n",
    "from matplotlib import pyplot as plt\n",
    "from scipy import special\n",
    "\n",
    "# define functions\n",
    "# compute_fk using the ukn and nk.\n",
    "# -----------\n",
    "def compute_fk(ukn, nk, tol=1e-07, prnlev=0):\n",
    "    r\"\"\"calculating the relative free energies (f_k).\"\"\"\n",
    "\n",
    "    fk = np.zeros(len(nk))\n",
    "    nsamples = ukn.shape[1]\n",
    "\n",
    "    # requirement: N == np.sum(nk)\n",
    "    if np.sum(nk) != nsamples:\n",
    "        print('np.sum(nk), nsamples = ', np.sum(nk), nsamples)\n",
    "        raise ValueError(\n",
    "            '''the sum of nk has to be the same \n",
    "               as the number of trajectory frames.'''\n",
    "        )\n",
    "\n",
    "    # calcualting fk iteratively\n",
    "    kstep = 0\n",
    "    err_max = 999\n",
    "    while err_max >= tol:\n",
    "        fk_new = -special.logsumexp(-ukn-special.logsumexp(fk-ukn.T, b=nk, axis=1), axis=1)\n",
    "        fk_new = fk_new - fk_new[0]\n",
    "        err_max = np.max(np.abs(fk_new - fk))\n",
    "        fk = fk_new\n",
    "        kstep += 1\n",
    "        if prnlev: print('kstep, err_max = ', kstep, err_max)\n",
    "\n",
    "    return fk"
   ]
  },
  {
   "cell_type": "markdown",
   "id": "7e9552aa-8d68-45b2-8bc0-4ff1ab254d1f",
   "metadata": {},
   "source": [
    "**Reference**\n",
    "\n",
    "[1]. pymbar installation: https://github.com/choderalab/pymbar\n",
    "\n",
    "[2]. FastMBAR installation: https://github.com/xqding/FastMBAR"
   ]
  },
  {
   "cell_type": "markdown",
   "id": "6faaaa88-39d1-478c-bb0d-f0171f36ff9f",
   "metadata": {},
   "source": [
    "## Estimating relative free energies from other approach\n",
    "\n",
    "$e^{-f_k} = \\int{e^{-u_k(x)}dx}$,\n",
    "\n",
    "this integral can be also approximated using a cumulant expansion,\n",
    "\n",
    "$f_k = -log(<e^{-u_k(x)}>) = {\\sum_k{\\frac{C_{k}}{k!} }}$,\n",
    "\n",
    "$C_1 = <u_k(x)>$,\n",
    "\n",
    "$C_2 = <u_k(x)^2> - <u_k(x)>^2$.\n",
    "\n",
    "\n",
    "**Reference**\n",
    "\n",
    "[1]. Miao et al., Gaussian Accelerated Molecular Dyanmics: Unconstrained Enhanced Sampling and Free Energy Calculation, J. Chem. Theory Comput. 2015, 11, 3584-3595\n"
   ]
  },
  {
   "cell_type": "markdown",
   "id": "4027da34-307f-40eb-a4c7-75497458a955",
   "metadata": {},
   "source": [
    "## How to choose the samples from each bias simulation\n",
    "\n",
    "We can choose all samples, which however could be not the optimal choose, because they could be highly correlated.\n",
    "\n",
    "The pymbar package provided a timeseries module to extract these independent samples, please refer to [this link](https://pymbar.readthedocs.io/en/master/timeseries.html). "
   ]
  },
  {
   "cell_type": "markdown",
   "id": "8059a37a-d8fd-40e3-8cd7-6030ad89c411",
   "metadata": {},
   "source": [
    "## Questions\n",
    "\n",
    "1) If each bias simulation collects different samples, then how can we use the MBAR to combine these samples?\n",
    "\n",
    "hint: the collected samples are supposed to be independent\n",
    "\n",
    "2) Can this MBAR reweighting be used for any biasing simulations? For example, the free energy perburbation, metadynamics, replica exchange simulations, etc.\n",
    "\n",
    "hint: please check out the background part.\n",
    "\n",
    "3) The most expensive part usually is the calculations of reduced potentials, then is there any a fast way to minimize these calculations?\n",
    "\n",
    "hint: please refer to the Eq. (3) in the background."
   ]
  }
 ],
 "metadata": {
  "kernelspec": {
   "display_name": "Python 3 (ipykernel)",
   "language": "python",
   "name": "python3"
  },
  "language_info": {
   "codemirror_mode": {
    "name": "ipython",
    "version": 3
   },
   "file_extension": ".py",
   "mimetype": "text/x-python",
   "name": "python",
   "nbconvert_exporter": "python",
   "pygments_lexer": "ipython3",
   "version": "3.8.10"
  },
  "toc-autonumbering": true,
  "toc-showcode": false,
  "toc-showmarkdowntxt": false,
  "toc-showtags": false
 },
 "nbformat": 4,
 "nbformat_minor": 5
}
